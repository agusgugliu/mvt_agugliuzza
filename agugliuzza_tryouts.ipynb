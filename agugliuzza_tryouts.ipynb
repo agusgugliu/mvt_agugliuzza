{
 "cells": [
  {
   "cell_type": "code",
   "execution_count": 3,
   "metadata": {},
   "outputs": [
    {
     "name": "stdout",
     "output_type": "stream",
     "text": [
      "['agustin', 'gugliuzza piccinini', '1995-04-09', '40567020']\n"
     ]
    }
   ],
   "source": [
    "texto = 'agustin,gugliuzza_piccinini,1995-04-09,40567020'\n",
    "texto = texto.split(\",\")\n",
    "print(texto)"
   ]
  },
  {
   "cell_type": "code",
   "execution_count": null,
   "metadata": {},
   "outputs": [],
   "source": []
  }
 ],
 "metadata": {
  "interpreter": {
   "hash": "3933d26626a2d55de51aaa5db6feb918eb2cda864d0ce17c698ac3fec68af3f7"
  },
  "kernelspec": {
   "display_name": "Python 3.9.10 64-bit",
   "language": "python",
   "name": "python3"
  },
  "language_info": {
   "codemirror_mode": {
    "name": "ipython",
    "version": 3
   },
   "file_extension": ".py",
   "mimetype": "text/x-python",
   "name": "python",
   "nbconvert_exporter": "python",
   "pygments_lexer": "ipython3",
   "version": "3.9.10"
  },
  "orig_nbformat": 4
 },
 "nbformat": 4,
 "nbformat_minor": 2
}
